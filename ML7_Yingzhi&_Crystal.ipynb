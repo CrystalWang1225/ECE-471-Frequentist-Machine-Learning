{
  "nbformat": 4,
  "nbformat_minor": 0,
  "metadata": {
    "colab": {
      "name": "ML7-Yingzhi& Crystal.ipynb",
      "provenance": [],
      "collapsed_sections": [],
      "include_colab_link": true
    },
    "kernelspec": {
      "name": "python3",
      "display_name": "Python 3"
    }
  },
  "cells": [
    {
      "cell_type": "markdown",
      "metadata": {
        "id": "view-in-github",
        "colab_type": "text"
      },
      "source": [
        "<a href=\"https://colab.research.google.com/github/CrystalWang1225/ECE-471-Frequentist-Machine-Learning/blob/main/ML7_Yingzhi%26_Crystal.ipynb\" target=\"_parent\"><img src=\"https://colab.research.google.com/assets/colab-badge.svg\" alt=\"Open In Colab\"/></a>"
      ]
    },
    {
      "cell_type": "code",
      "metadata": {
        "colab": {
          "base_uri": "https://localhost:8080/"
        },
        "id": "W1_YRWz_nFI6",
        "outputId": "256e3109-acb9-4ec7-d982-395d91c09315"
      },
      "source": [
        "!pip install surprise"
      ],
      "execution_count": null,
      "outputs": [
        {
          "output_type": "stream",
          "text": [
            "Requirement already satisfied: surprise in /usr/local/lib/python3.6/dist-packages (0.1)\n",
            "Requirement already satisfied: scikit-surprise in /usr/local/lib/python3.6/dist-packages (from surprise) (1.1.1)\n",
            "Requirement already satisfied: joblib>=0.11 in /usr/local/lib/python3.6/dist-packages (from scikit-surprise->surprise) (0.17.0)\n",
            "Requirement already satisfied: six>=1.10.0 in /usr/local/lib/python3.6/dist-packages (from scikit-surprise->surprise) (1.15.0)\n",
            "Requirement already satisfied: scipy>=1.0.0 in /usr/local/lib/python3.6/dist-packages (from scikit-surprise->surprise) (1.4.1)\n",
            "Requirement already satisfied: numpy>=1.11.2 in /usr/local/lib/python3.6/dist-packages (from scikit-surprise->surprise) (1.18.5)\n"
          ],
          "name": "stdout"
        }
      ]
    },
    {
      "cell_type": "code",
      "metadata": {
        "id": "F9cwalKZnj30"
      },
      "source": [
        "import pandas as pd\n",
        "import numpy as np\n",
        "import surprise\n",
        "from surprise import Dataset\n",
        "from surprise.model_selection import cross_validate\n",
        "from surprise.model_selection import GridSearchCV\n",
        "from surprise.model_selection import train_test_split\n",
        "from surprise import NMF"
      ],
      "execution_count": null,
      "outputs": []
    },
    {
      "cell_type": "markdown",
      "metadata": {
        "id": "XvHfBvLee6Xj"
      },
      "source": [
        "# Load Data\n",
        "The dataset is from https://grouplens.org/datasets/movielens/\n",
        "It contains informations on users ratings on different movies"
      ]
    },
    {
      "cell_type": "code",
      "metadata": {
        "id": "AHWY9pS4tr0_"
      },
      "source": [
        "data = Dataset.load_builtin('ml-100k',prompt=False)"
      ],
      "execution_count": null,
      "outputs": []
    },
    {
      "cell_type": "markdown",
      "metadata": {
        "id": "MaY0u6HPfTYz"
      },
      "source": [
        "# Tuning Hyperparameter"
      ]
    },
    {
      "cell_type": "code",
      "metadata": {
        "id": "dSt8YA-Xqtca",
        "colab": {
          "base_uri": "https://localhost:8080/"
        },
        "outputId": "171b7f66-5bda-47ff-f6aa-24b4015dd43f"
      },
      "source": [
        "reg_all = [0.02,0.05,0.07]\n",
        "\n",
        "param_grid = {\n",
        "    \"n_factors\":[10,15,20],\n",
        "    \"n_epochs\":[5,15,20],\n",
        "    \"reg_qi\": reg_all,\n",
        "    \"reg_pu\":reg_all\n",
        "}\n",
        "\n",
        "gs = GridSearchCV(NMF, param_grid,measures=[\"rmse\",\"mae\"],cv = 3)\n",
        "gs.fit(data)\n",
        "\n",
        "# best RMSE score\n",
        "print(\"BEST RMSE: \")\n",
        "print(gs.best_score['rmse'])\n",
        "\n",
        "# combination of parameters that gave the best RMSE score\n",
        "print(\"Best RMSE Parameter: \")\n",
        "print(gs.best_params['rmse'])\n"
      ],
      "execution_count": null,
      "outputs": [
        {
          "output_type": "stream",
          "text": [
            "BEST RMSE: \n",
            "0.9756106909609167\n",
            "Best RMSE Parameter: \n",
            "{'n_factors': 15, 'n_epochs': 20, 'reg_qi': 0.07, 'reg_pu': 0.07}\n"
          ],
          "name": "stdout"
        }
      ]
    },
    {
      "cell_type": "code",
      "metadata": {
        "colab": {
          "base_uri": "https://localhost:8080/"
        },
        "id": "UbVlsb8kFUMX",
        "outputId": "4c7c0d0c-d447-497b-c1b6-98bbd081828b"
      },
      "source": [
        "from surprise import accuracy\n",
        "algo= gs.best_estimator['rmse']\n",
        "trainset = data.build_full_trainset()\n",
        "algo.fit(trainset)\n",
        "\n",
        "testset = trainset.build_anti_testset()\n",
        "prediction = algo.test(testset)\n",
        "accuracy.rmse(prediction)"
      ],
      "execution_count": null,
      "outputs": [
        {
          "output_type": "stream",
          "text": [
            "RMSE: 0.9080\n"
          ],
          "name": "stdout"
        },
        {
          "output_type": "execute_result",
          "data": {
            "text/plain": [
              "0.9080405273981592"
            ]
          },
          "metadata": {
            "tags": []
          },
          "execution_count": 43
        }
      ]
    },
    {
      "cell_type": "code",
      "metadata": {
        "colab": {
          "base_uri": "https://localhost:8080/",
          "height": 700
        },
        "id": "IONLC_-Zxt97",
        "outputId": "fc7dec3a-c4f6-4fe5-8202-d053f8b938c0"
      },
      "source": [
        "# Load movie item dataset\n",
        "columns_name = [\"movie id\",\"movie title\",\"release date\",\"video release date\",\"IMDb URL\",\"unknown\",\"Action\",\"Adventure\",\"Animation\",\"Children's\",\"Comedy\",\"Crime\",\"Documentary\",\"Drama\",\"Fantasy\",\"Film-Noir\",\"Horror\",\"Musical\",\"Mystery\",\"Romance\",\"Sci-Fi\",\"Thriller\",\"War\",\"Western\"]\n",
        "items = pd.read_csv(\"/root/.surprise_data/ml-100k/ml-100k/u.item\",sep=\"|\",names=columns_name,encoding='cp1250',header=0)\n",
        "display = pd.DataFrame(columns=['user_id','movie title','rating','predicted_rating'])\n",
        "count = 0\n",
        "\n",
        "# Convert movie rating prediction list to a dataframe, replace the movie id with the movie name, and select the first 30000 prediction entries.\n",
        "prediction_df = pd.DataFrame(columns=[\"user_id\", \"movie id\", \"movie title\",\"predicted_rating\"])\n",
        "for each in prediction:\n",
        "  each_item = items.loc[items['movie id'] == int(each.iid)]['movie title']\n",
        "  prediction_df = prediction_df.append({\"user_id\": each[0], \"movie id\": each[1],\"movie title\":each_item.iloc[0] if len(each_item)==1 else \"blank\", \"predicted_rating\": each[3]},ignore_index=True)\n",
        "  count = count + 1\n",
        "  if count == 30000:\n",
        "     break\n",
        "\n",
        "# Randomize the prediction dataframe and select only one movie per user.\n",
        "prediction_df = prediction_df.sample(frac=1)\n",
        "prediction_df = prediction_df.drop_duplicates(subset=['user_id'], keep='last')\n",
        "\n",
        "prediction_df.head(50)"
      ],
      "execution_count": null,
      "outputs": [
        {
          "output_type": "execute_result",
          "data": {
            "text/html": [
              "<div>\n",
              "<style scoped>\n",
              "    .dataframe tbody tr th:only-of-type {\n",
              "        vertical-align: middle;\n",
              "    }\n",
              "\n",
              "    .dataframe tbody tr th {\n",
              "        vertical-align: top;\n",
              "    }\n",
              "\n",
              "    .dataframe thead th {\n",
              "        text-align: right;\n",
              "    }\n",
              "</style>\n",
              "<table border=\"1\" class=\"dataframe\">\n",
              "  <thead>\n",
              "    <tr style=\"text-align: right;\">\n",
              "      <th></th>\n",
              "      <th>user_id</th>\n",
              "      <th>movie id</th>\n",
              "      <th>movie title</th>\n",
              "      <th>predicted_rating</th>\n",
              "    </tr>\n",
              "  </thead>\n",
              "  <tbody>\n",
              "    <tr>\n",
              "      <th>21357</th>\n",
              "      <td>210</td>\n",
              "      <td>1329</td>\n",
              "      <td>Low Life, The (1994)</td>\n",
              "      <td>2.061103</td>\n",
              "    </tr>\n",
              "    <tr>\n",
              "      <th>6563</th>\n",
              "      <td>166</td>\n",
              "      <td>210</td>\n",
              "      <td>Indiana Jones and the Last Crusade (1989)</td>\n",
              "      <td>4.361299</td>\n",
              "    </tr>\n",
              "    <tr>\n",
              "      <th>13037</th>\n",
              "      <td>305</td>\n",
              "      <td>616</td>\n",
              "      <td>Night of the Living Dead (1968)</td>\n",
              "      <td>3.332644</td>\n",
              "    </tr>\n",
              "    <tr>\n",
              "      <th>29842</th>\n",
              "      <td>119</td>\n",
              "      <td>1240</td>\n",
              "      <td>Ghost in the Shell (Kokaku kidotai) (1995)</td>\n",
              "      <td>4.373600</td>\n",
              "    </tr>\n",
              "    <tr>\n",
              "      <th>26923</th>\n",
              "      <td>194</td>\n",
              "      <td>1173</td>\n",
              "      <td>Bliss (1997)</td>\n",
              "      <td>2.670707</td>\n",
              "    </tr>\n",
              "    <tr>\n",
              "      <th>15275</th>\n",
              "      <td>6</td>\n",
              "      <td>1261</td>\n",
              "      <td>Run of the Country, The (1995)</td>\n",
              "      <td>3.169294</td>\n",
              "    </tr>\n",
              "    <tr>\n",
              "      <th>28934</th>\n",
              "      <td>234</td>\n",
              "      <td>754</td>\n",
              "      <td>Red Corner (1997)</td>\n",
              "      <td>3.025079</td>\n",
              "    </tr>\n",
              "    <tr>\n",
              "      <th>11290</th>\n",
              "      <td>253</td>\n",
              "      <td>612</td>\n",
              "      <td>Lost Horizon (1937)</td>\n",
              "      <td>4.245377</td>\n",
              "    </tr>\n",
              "    <tr>\n",
              "      <th>7942</th>\n",
              "      <td>298</td>\n",
              "      <td>690</td>\n",
              "      <td>Seven Years in Tibet (1997)</td>\n",
              "      <td>3.753729</td>\n",
              "    </tr>\n",
              "    <tr>\n",
              "      <th>1883</th>\n",
              "      <td>186</td>\n",
              "      <td>678</td>\n",
              "      <td>Volcano (1997)</td>\n",
              "      <td>2.938476</td>\n",
              "    </tr>\n",
              "    <tr>\n",
              "      <th>17270</th>\n",
              "      <td>286</td>\n",
              "      <td>1114</td>\n",
              "      <td>Faithful (1996)</td>\n",
              "      <td>3.686183</td>\n",
              "    </tr>\n",
              "    <tr>\n",
              "      <th>10416</th>\n",
              "      <td>115</td>\n",
              "      <td>1105</td>\n",
              "      <td>Firestorm (1998)</td>\n",
              "      <td>3.087857</td>\n",
              "    </tr>\n",
              "    <tr>\n",
              "      <th>15789</th>\n",
              "      <td>62</td>\n",
              "      <td>289</td>\n",
              "      <td>Evita (1996)</td>\n",
              "      <td>2.812150</td>\n",
              "    </tr>\n",
              "    <tr>\n",
              "      <th>27551</th>\n",
              "      <td>291</td>\n",
              "      <td>299</td>\n",
              "      <td>Hoodlum (1997)</td>\n",
              "      <td>3.345820</td>\n",
              "    </tr>\n",
              "    <tr>\n",
              "      <th>22494</th>\n",
              "      <td>224</td>\n",
              "      <td>1300</td>\n",
              "      <td>'Til There Was You (1997)</td>\n",
              "      <td>2.048484</td>\n",
              "    </tr>\n",
              "    <tr>\n",
              "      <th>3234</th>\n",
              "      <td>22</td>\n",
              "      <td>302</td>\n",
              "      <td>L.A. Confidential (1997)</td>\n",
              "      <td>4.362815</td>\n",
              "    </tr>\n",
              "    <tr>\n",
              "      <th>24867</th>\n",
              "      <td>122</td>\n",
              "      <td>575</td>\n",
              "      <td>City Slickers II: The Legend of Curly's Gold (...</td>\n",
              "      <td>2.989889</td>\n",
              "    </tr>\n",
              "    <tr>\n",
              "      <th>742</th>\n",
              "      <td>196</td>\n",
              "      <td>441</td>\n",
              "      <td>Amityville Horror, The (1979)</td>\n",
              "      <td>2.695728</td>\n",
              "    </tr>\n",
              "    <tr>\n",
              "      <th>19787</th>\n",
              "      <td>200</td>\n",
              "      <td>1618</td>\n",
              "      <td>King of New York (1990)</td>\n",
              "      <td>1.059283</td>\n",
              "    </tr>\n",
              "    <tr>\n",
              "      <th>23322</th>\n",
              "      <td>303</td>\n",
              "      <td>772</td>\n",
              "      <td>Kids (1995)</td>\n",
              "      <td>3.339302</td>\n",
              "    </tr>\n",
              "    <tr>\n",
              "      <th>5211</th>\n",
              "      <td>244</td>\n",
              "      <td>85</td>\n",
              "      <td>Ref, The (1994)</td>\n",
              "      <td>3.307702</td>\n",
              "    </tr>\n",
              "  </tbody>\n",
              "</table>\n",
              "</div>"
            ],
            "text/plain": [
              "      user_id  ... predicted_rating\n",
              "21357     210  ...         2.061103\n",
              "6563      166  ...         4.361299\n",
              "13037     305  ...         3.332644\n",
              "29842     119  ...         4.373600\n",
              "26923     194  ...         2.670707\n",
              "15275       6  ...         3.169294\n",
              "28934     234  ...         3.025079\n",
              "11290     253  ...         4.245377\n",
              "7942      298  ...         3.753729\n",
              "1883      186  ...         2.938476\n",
              "17270     286  ...         3.686183\n",
              "10416     115  ...         3.087857\n",
              "15789      62  ...         2.812150\n",
              "27551     291  ...         3.345820\n",
              "22494     224  ...         2.048484\n",
              "3234       22  ...         4.362815\n",
              "24867     122  ...         2.989889\n",
              "742       196  ...         2.695728\n",
              "19787     200  ...         1.059283\n",
              "23322     303  ...         3.339302\n",
              "5211      244  ...         3.307702\n",
              "\n",
              "[21 rows x 4 columns]"
            ]
          },
          "metadata": {
            "tags": []
          },
          "execution_count": 78
        }
      ]
    },
    {
      "cell_type": "markdown",
      "metadata": {
        "id": "EQ_XCxvBfa0t"
      },
      "source": [
        "Only the first 30000 rows in prediction is loaded into the dataframe. We randomized the rows, and only show one estimated ratings for each user."
      ]
    },
    {
      "cell_type": "markdown",
      "metadata": {
        "id": "Lt9q77IEG8qg"
      },
      "source": [
        "# Stretch Goal 1"
      ]
    },
    {
      "cell_type": "code",
      "metadata": {
        "id": "Fl_T9UGMG5dv"
      },
      "source": [
        ""
      ],
      "execution_count": null,
      "outputs": []
    }
  ]
}