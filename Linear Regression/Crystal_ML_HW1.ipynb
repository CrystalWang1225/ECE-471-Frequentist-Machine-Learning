{
  "nbformat": 4,
  "nbformat_minor": 0,
  "metadata": {
    "colab": {
      "name": "Crystal ML-HW1.ipynb",
      "provenance": [],
      "collapsed_sections": [
        "e1K39FB204rd",
        "PyDRnNQF3Qd3",
        "A9GST4rihKdM",
        "Z5U_q-bFEv0H",
        "wQidqjS3sRLW"
      ]
    },
    "kernelspec": {
      "name": "python3",
      "display_name": "Python 3"
    }
  },
  "cells": [
    {
      "cell_type": "markdown",
      "metadata": {
        "id": "11L24EC1G5rj"
      },
      "source": [
        "Crystal Wang \n",
        "\n",
        "ECE 475 - Assignment # 1"
      ]
    },
    {
      "cell_type": "markdown",
      "metadata": {
        "id": "Su46HapKzmrS"
      },
      "source": [
        "# Organizing and Randomizing Data\n",
        "Data normalized and divided up into three datasets: training, testing, and validation\n",
        "\n",
        "Pre-processing for Stretch goals matrices are also included\n"
      ]
    },
    {
      "cell_type": "code",
      "metadata": {
        "id": "d1ZUIqcUSX_8"
      },
      "source": [
        "import pandas as pd\n",
        "import numpy as np\n",
        "import random\n",
        "\n",
        "path = 'data.csv'\n",
        "df = pd.read_csv(path)\n",
        "index = np.arange(0,97).tolist()\n",
        "originalData = df.iloc[index]\n",
        "yOriginal = originalData[['lpsa']].values\n",
        "allData = originalData.drop([\"Unnamed: 0\",\"train\", \"lpsa\"],axis = 1)\n",
        "originalData = originalData.drop([\"Unnamed: 0\",\"train\", \"lpsa\"],axis = 1).values\n",
        "\n",
        "# =============================================================================\n",
        "# Nonlinear - Squared\n",
        "# =============================================================================\n",
        "stretchData = originalData**2\n",
        "yOriginalS = yOriginal\n",
        "yMeanS = np.mean(yOriginalS, axis = 0)\n",
        "yStdS = np.std(yOriginalS, axis = 0)\n",
        "yOriginalS = (yOriginalS-yMeanS)/yStdS\n",
        "meanOriginalS = np.mean(stretchData, axis = 0)\n",
        "stdOriginalS = np.std(stretchData, axis = 0)\n",
        "# =============================================================================\n",
        "# Feature Interation \n",
        "# =============================================================================\n",
        "# I worked with Yingzhi for this part of the code\n",
        "from sklearn.preprocessing import PolynomialFeatures\n",
        "\n",
        "interaction = PolynomialFeatures(degree = 2, interaction_only = True, include_bias = False)\n",
        "\n",
        "feature = interaction.fit_transform(originalData)\n",
        "yOriginalF = yOriginal\n",
        "yMeanF = np.mean(yOriginalF, axis = 0)\n",
        "yStdF = np.std(yOriginalF, axis = 0)\n",
        "yOriginalF = (yOriginalF-yMeanF)/yStdF\n",
        "meanOriginalF = np.mean(feature, axis = 0)\n",
        "stdOriginalF = np.std(feature, axis = 0)\n",
        "\n",
        "# =============================================================================\n",
        "# Part1 - Normalizing the dataset\n",
        "# =============================================================================\n",
        "yMean = np.mean(yOriginal, axis = 0)\n",
        "yStd = np.std(yOriginal, axis = 0)\n",
        "yOriginal = (yOriginal-yMean)/yStd\n",
        "meanOriginal = np.mean(originalData, axis = 0)\n",
        "stdOriginal = np.std(originalData, axis = 0)\n",
        "\n",
        "# Normalizing the dataset\n",
        "for i in range (len(originalData[1])):\n",
        "  originalData[:,i] = (originalData[:,i]-meanOriginal[i])/stdOriginal[i]\n",
        "  stretchData[:,i] = (stretchData[:,i]-meanOriginalS[i])/stdOriginalS[i]\n",
        "  feature[:,i] = (feature[:,i]-meanOriginalF[i])/stdOriginalF[i]\n",
        "\n",
        "# Initialization for the training data index list\n",
        "trainn = []\n",
        "while len(trainn) <= 77:\n",
        "  rand = random.randrange(len(index))\n",
        "  trainn.append(rand)\n",
        "  index.pop(rand)\n",
        "# print(index)\n",
        "yTrain = yOriginal[trainn]\n",
        "trainData = originalData[trainn]\n",
        "\n",
        "yTrainS = yOriginalS[trainn]\n",
        "trainDataS = stretchData[trainn]\n",
        "\n",
        "yTrainF = yOriginalF[trainn]\n",
        "trainDataF = feature[trainn]\n",
        "# Initialization for the test data index list\n",
        "testt = []\n",
        "while len(testt) <= 9:\n",
        "  rand2 = random.randrange(len(index))\n",
        "  testt.append(rand2)\n",
        "  index.pop(rand2)\n",
        "\n",
        "yTest = yOriginal[testt]\n",
        "testData = originalData[testt]\n",
        "\n",
        "yTestS = yOriginalS[testt]\n",
        "testDataS = stretchData[testt]\n",
        "\n",
        "yTestF = yOriginalF[testt]\n",
        "testDataF = feature[testt]\n",
        "\n",
        "yValid = yOriginal[index]\n",
        "validData = originalData[index]\n"
      ],
      "execution_count": null,
      "outputs": []
    },
    {
      "cell_type": "markdown",
      "metadata": {
        "id": "e1K39FB204rd"
      },
      "source": [
        "# Part 1 - Linear Regression by hand\n"
      ]
    },
    {
      "cell_type": "code",
      "metadata": {
        "id": "g0AAfyuCeGlf"
      },
      "source": [
        "'''\n",
        "            This part of the code is the initialization of the input X for linear regression where a 1 is appended to each\n",
        "'''\n",
        "\n",
        "ones = np.array([])\n",
        "while len(ones) <= 78:\n",
        "  ones = np.append(ones,np.array([1]), axis = 0)\n",
        "\n",
        "training = trainData\n",
        "train = np.ndarray(shape=(0,len(training[0])+1))\n",
        "test = np.ndarray(shape=(0,len(testData[0])+1))\n",
        "for i in range(78):\n",
        "  trainingSample = np.array([training[i]])\n",
        "  train = np.append(train, np.append(np.array([[1]]),trainingSample, axis = 1),axis = 0)\n",
        "for j in range(10):\n",
        "  testSample = np.array([testData[j]])\n",
        "  test = np.append(test, np.append(np.array([[1]]),testSample, axis = 1),axis = 0)\n",
        "X1 = train[:,0:10]\n",
        "XValid = validData[:,0:10]"
      ],
      "execution_count": null,
      "outputs": []
    },
    {
      "cell_type": "code",
      "metadata": {
        "id": "GTsFi-zG5CHj",
        "outputId": "5c9f13a3-e069-49db-cf4a-bd0a89c21cc2",
        "colab": {
          "base_uri": "https://localhost:8080/"
        }
      },
      "source": [
        "'''\n",
        "                This part of the code implements the linear regression formula and calculates the MSE for baseline, testing and training.\n",
        "\n",
        "                It implements eqn(3.6) from the textbook: \n",
        "        beta = (X^T * X)^-1 * X^T * y\n",
        "Where X is the input matrix and y is the output label \n",
        "'''\n",
        "transX1 = np.transpose(X1)\n",
        "beta1 = np.matmul(np.matmul(np.linalg.inv(np.matmul(transX1, X1)),transX1),yTrain)\n",
        "yHatTest = np.matmul(test, beta1)\n",
        "yHatTrain = np.matmul(X1, beta1)\n",
        "sumTest = 0\n",
        "sumTrain = 0\n",
        "sumBase = 0\n",
        "for i in range(78):\n",
        "  sumTrain = sumTrain + (np.square(yHatTrain[i]-yTrain[i]))\n",
        "\n",
        "labelMean = np.sum(yTrain,axis = 0)/78\n",
        "\n",
        "for i in range(10):\n",
        "  sumTest = sumTest + (np.square(yHatTest[i]-yTest[i]))\n",
        "  sumBase = sumBase + (np.square(labelMean-yTest[i]))\n",
        "MSEBase = sumBase.astype(np.float)/10\n",
        "MSE1Test = sumTest.astype(np.float)/10\n",
        "MSE1Train = sumTrain.astype(np.float)/78\n",
        "print(\"MSE for baseline: \", MSEBase)\n",
        "print(\"MSE for Testing: \",MSE1Test)\n",
        "print(\"MSE for Training: \",MSE1Train)\n"
      ],
      "execution_count": null,
      "outputs": [
        {
          "output_type": "stream",
          "text": [
            "MSE for baseline:  [2.57693944]\n",
            "MSE for Testing:  [0.56974311]\n",
            "MSE for Training:  [0.18942052]\n"
          ],
          "name": "stdout"
        }
      ]
    },
    {
      "cell_type": "code",
      "metadata": {
        "id": "Dz61dpfOE7oa",
        "outputId": "5dcf659b-1c78-4409-fe8d-1c428a056db3",
        "colab": {
          "base_uri": "https://localhost:8080/"
        }
      },
      "source": [
        "'''\n",
        "          This part of the code replicates Table 3.1 and 3.2.\n",
        "'''\n",
        "import math\n",
        "allData = pd.DataFrame(allData, columns =[\"Intercept\", \"lcavol\", \"lweight\", \"age\", \"lbph\", \"svi\", \"lcp\",\"gleason\", \"pgg4\"] )\n",
        "display(allData.corr)\n",
        "variance = (1/(78 - 9 - 1))*sumTrain\n",
        "std = math.sqrt(variance)\n",
        "zScore = []\n",
        "stdError = []\n",
        "for i in range(len(beta1)):\n",
        "  s = np.linalg.inv(np.matmul(transX1,X1))[i,i]\n",
        "  stdError.append(std*math.sqrt(s))\n",
        "  zScore.append(beta1[i]/(stdError[i]))\n",
        "zScore = np.array(zScore)\n",
        "stdError = np.array(stdError)\n",
        "\n",
        "t = np.concatenate((beta1, np.transpose([stdError])),axis = 1)\n",
        "t = np.concatenate((t,np.array(zScore)), axis = 1)\n",
        "\n",
        "table = pd.DataFrame(data = t, columns = [\"Coefficient\", \"Std.Error\", \"Z Score\"], index = [\"Intercept\", \"lcavol\", \"lweight\", \"age\", \"lbph\", \"svi\", \"lcp\",\"gleason\", \"pgg4\"])\n",
        "display(table)"
      ],
      "execution_count": null,
      "outputs": [
        {
          "output_type": "display_data",
          "data": {
            "text/plain": [
              "<bound method DataFrame.corr of     Intercept    lcavol   lweight  age      lbph  svi       lcp  gleason  pgg4\n",
              "0         NaN -0.579818  2.769459   50 -1.386294    0 -1.386294        6   NaN\n",
              "1         NaN -0.994252  3.319626   58 -1.386294    0 -1.386294        6   NaN\n",
              "2         NaN -0.510826  2.691243   74 -1.386294    0 -1.386294        7   NaN\n",
              "3         NaN -1.203973  3.282789   58 -1.386294    0 -1.386294        6   NaN\n",
              "4         NaN  0.751416  3.432373   62 -1.386294    0 -1.386294        6   NaN\n",
              "..        ...       ...       ...  ...       ...  ...       ...      ...   ...\n",
              "92        NaN  2.830268  3.876396   68 -1.386294    1  1.321756        7   NaN\n",
              "93        NaN  3.821004  3.896909   44 -1.386294    1  2.169054        7   NaN\n",
              "94        NaN  2.907447  3.396185   52 -1.386294    1  2.463853        7   NaN\n",
              "95        NaN  2.882564  3.773910   68  1.558145    1  1.558145        7   NaN\n",
              "96        NaN  3.471966  3.974998   68  0.438255    1  2.904165        7   NaN\n",
              "\n",
              "[97 rows x 9 columns]>"
            ]
          },
          "metadata": {
            "tags": []
          }
        },
        {
          "output_type": "display_data",
          "data": {
            "text/html": [
              "<div>\n",
              "<style scoped>\n",
              "    .dataframe tbody tr th:only-of-type {\n",
              "        vertical-align: middle;\n",
              "    }\n",
              "\n",
              "    .dataframe tbody tr th {\n",
              "        vertical-align: top;\n",
              "    }\n",
              "\n",
              "    .dataframe thead th {\n",
              "        text-align: right;\n",
              "    }\n",
              "</style>\n",
              "<table border=\"1\" class=\"dataframe\">\n",
              "  <thead>\n",
              "    <tr style=\"text-align: right;\">\n",
              "      <th></th>\n",
              "      <th>Coefficient</th>\n",
              "      <th>Std.Error</th>\n",
              "      <th>Z Score</th>\n",
              "    </tr>\n",
              "  </thead>\n",
              "  <tbody>\n",
              "    <tr>\n",
              "      <th>Intercept</th>\n",
              "      <td>-0.235195</td>\n",
              "      <td>0.067070</td>\n",
              "      <td>-3.506699</td>\n",
              "    </tr>\n",
              "    <tr>\n",
              "      <th>lcavol</th>\n",
              "      <td>0.490985</td>\n",
              "      <td>0.084970</td>\n",
              "      <td>5.778306</td>\n",
              "    </tr>\n",
              "    <tr>\n",
              "      <th>lweight</th>\n",
              "      <td>0.169295</td>\n",
              "      <td>0.068660</td>\n",
              "      <td>2.465708</td>\n",
              "    </tr>\n",
              "    <tr>\n",
              "      <th>age</th>\n",
              "      <td>-0.174199</td>\n",
              "      <td>0.064223</td>\n",
              "      <td>-2.712405</td>\n",
              "    </tr>\n",
              "    <tr>\n",
              "      <th>lbph</th>\n",
              "      <td>0.206837</td>\n",
              "      <td>0.067851</td>\n",
              "      <td>3.048394</td>\n",
              "    </tr>\n",
              "    <tr>\n",
              "      <th>svi</th>\n",
              "      <td>0.284939</td>\n",
              "      <td>0.111108</td>\n",
              "      <td>2.564513</td>\n",
              "    </tr>\n",
              "    <tr>\n",
              "      <th>lcp</th>\n",
              "      <td>-0.124018</td>\n",
              "      <td>0.097983</td>\n",
              "      <td>-1.265699</td>\n",
              "    </tr>\n",
              "    <tr>\n",
              "      <th>gleason</th>\n",
              "      <td>0.159440</td>\n",
              "      <td>0.097585</td>\n",
              "      <td>1.633859</td>\n",
              "    </tr>\n",
              "    <tr>\n",
              "      <th>pgg4</th>\n",
              "      <td>0.077979</td>\n",
              "      <td>0.106818</td>\n",
              "      <td>0.730019</td>\n",
              "    </tr>\n",
              "  </tbody>\n",
              "</table>\n",
              "</div>"
            ],
            "text/plain": [
              "           Coefficient  Std.Error   Z Score\n",
              "Intercept    -0.235195   0.067070 -3.506699\n",
              "lcavol        0.490985   0.084970  5.778306\n",
              "lweight       0.169295   0.068660  2.465708\n",
              "age          -0.174199   0.064223 -2.712405\n",
              "lbph          0.206837   0.067851  3.048394\n",
              "svi           0.284939   0.111108  2.564513\n",
              "lcp          -0.124018   0.097983 -1.265699\n",
              "gleason       0.159440   0.097585  1.633859\n",
              "pgg4          0.077979   0.106818  0.730019"
            ]
          },
          "metadata": {
            "tags": []
          }
        }
      ]
    },
    {
      "cell_type": "markdown",
      "metadata": {
        "id": "PyDRnNQF3Qd3"
      },
      "source": [
        "# Part 2 - Ridge Regression by hand"
      ]
    },
    {
      "cell_type": "code",
      "metadata": {
        "id": "cNOPlac_cLF7",
        "outputId": "45c93130-aef7-4ce9-d636-3401f05bf3b3",
        "colab": {
          "base_uri": "https://localhost:8080/"
        }
      },
      "source": [
        "'''\n",
        "        This part of the code implements the Ridge Regression, chooses the optimal lambda, and calculates the MSE by using such lambda\n",
        "'''\n",
        "N = 10000\n",
        "lamb = np.linspace(0,50, num = N)\n",
        "Xr = trainData\n",
        "I = np.identity(8)\n",
        "rEachBeta = [[]]\n",
        "rBeta = np.zeros((N,8))# \n",
        "rYHat = np.zeros((1,9))\n",
        "rMSE = np.zeros((N,1))\n",
        "rSumValid = np.zeros((N,1))\n",
        "'''\n",
        "Equation 3.44 from the textbook is used:\n",
        "beta = (X^T * X + lamda*I)^-1 * X^T * ywhere lambda is a hyperparameter \n",
        "'''\n",
        "# Finding the optimal lambda for the mdoel\n",
        "for i in range(len(lamb)):\n",
        "  rEachBeta = np.matmul(np.matmul(np.linalg.inv(np.matmul(np.transpose(Xr),Xr) + lamb[i]*I),np.transpose(Xr)),yTrain)\n",
        "  rBeta[i] = np.transpose(rEachBeta)\n",
        "  rYHat = np.transpose(np.matmul(validData,rEachBeta))\n",
        "  for j in range(9):\n",
        "    rSumValid[i,0] = rSumValid[i,0] + ((rYHat[0,j]-yValid[j,0])**2)\n",
        "  rMSE[i] = rSumValid[i]/9\n",
        "min = np.argmin(rMSE)\n",
        "optimalLamb = lamb[min]\n",
        "\n",
        "print(\"optimalLamb: \", optimalLamb)\n",
        "\n",
        "optimalBeta = np.matmul(np.matmul(np.linalg.inv(np.matmul(np.transpose(Xr),Xr) + lamb[i]*I),np.transpose(Xr)),yTrain)\n",
        "\n",
        "rYHatTest = np.matmul(testData, optimalBeta)\n",
        "rSumTest = 0\n",
        "for i in range(10):\n",
        "  rSumTest = rSumTest + (np.square(rYHatTest[i]-yTest[i]))\n",
        "rMSE_Test = rSumTest/10\n",
        "print(\"Rigid MSE for Testing Dataset: \", rMSE_Test)\n"
      ],
      "execution_count": null,
      "outputs": [
        {
          "output_type": "stream",
          "text": [
            "optimalLamb:  5.115511551155116\n",
            "Rigid MSE for Testing Dataset:  [1.29328166]\n"
          ],
          "name": "stdout"
        }
      ]
    },
    {
      "cell_type": "code",
      "metadata": {
        "id": "spwODB-TYikX",
        "outputId": "fdc7281b-8eeb-4f36-99f6-e0913fc721df",
        "colab": {
          "base_uri": "https://localhost:8080/"
        }
      },
      "source": [
        "'''\n",
        "        This part of the code replicates figure 3.8 for ridge coefficient against lambda\n",
        "'''\n",
        "import matplotlib.pyplot as plt\n",
        "\n",
        "labels = [\"lcavol\", \"lweight\", \"age\", \"lbph\", \"svi\", \"lcp\", \"gleason\", \"pgg45\"]\n",
        "\n",
        "for i in range(8):\n",
        "  plt.plot(lamb, rBeta[:,i], label = labels[i])\n",
        "\n",
        "plt.xlabel('Lambda')\n",
        "plt.ylabel('Coefficients')\n",
        "plt.title('Ridge Regression Plot for the Prostate Cancer')\n",
        "plt.legend(loc = 'lower right', bbox_to_anchor=(1.3,0.5))\n",
        "plt.show()\n"
      ],
      "execution_count": null,
      "outputs": [
        {
          "output_type": "display_data",
          "data": {
            "image/png": "[encoded data removed]",
            "text/plain": [
              "<Figure size 432x288 with 1 Axes>"
            ]
          },
          "metadata": {
            "tags": [],
            "needs_background": "light"
          }
        }
      ]
    },
    {
      "cell_type": "markdown",
      "metadata": {
        "id": "A9GST4rihKdM"
      },
      "source": [
        "# Part3 - Lasso regression using Sci-skit"
      ]
    },
    {
      "cell_type": "code",
      "metadata": {
        "id": "9QScNeethQ_6",
        "outputId": "c9de96e5-2bf5-4bd7-a8e5-33bd0bb3a54d",
        "colab": {
          "base_uri": "https://localhost:8080/"
        }
      },
      "source": [
        "from sklearn import linear_model\n",
        "'''\n",
        "        This part of the code implements Lasso regression using sklearn, finding the optimal lambda and plot lasso as 3.10\n",
        "'''\n",
        "laLambda = np.linspace(0,1, num = N)\n",
        "XLa = trainData\n",
        "globalMin = float('inf')\n",
        "laBeta = np.zeros((N,8))\n",
        "laYHat = np.zeros((1,9))\n",
        "optimalLaLamb = 0\n",
        "best = linear_model.Lasso(alpha = 0, fit_intercept=False)\n",
        "# Finding the optimal lambda for the model\n",
        "for i in range(N):\n",
        "  laModel = linear_model.Lasso(alpha = laLambda[i], fit_intercept = False)\n",
        "  laModel.fit(XLa, yTrain)\n",
        "  # laYHat = laModel.predict(validData)\n",
        "  # laMSE = np.sum(np.square(laYHat - yValid))/9\n",
        "  if laModel.score(XValid, yValid) < globalMin:\n",
        "    globalMin = laModel.score(XValid, yValid)\n",
        "    optimalLaLamb = laLambda[i]\n",
        "    best = laModel \n",
        "  laBeta[i] = laModel.coef_\n",
        "\n",
        "# laOptYHat = best.predict(XTest)\n",
        "# laTestMSE = np.sum(np.square(laOptYHat - yTest))/10\n",
        "# print(\"Testing dataset MSE for Lasso Regression : \", laTestMSE)\n",
        "\n",
        "for i in range(8):\n",
        "  plt.plot(laLambda, laBeta[:,i], label = labels[i])\n",
        "\n",
        "plt.xlabel('Lambda')\n",
        "plt.ylabel('Coefficients')\n",
        "plt.title('Lasso Regression Plot for the Prostate Cancer')\n",
        "plt.legend(loc = 'lower right', bbox_to_anchor=(1.3,0.5))\n",
        "plt.show()"
      ],
      "execution_count": null,
      "outputs": [
        {
          "output_type": "stream",
          "text": [
            "/usr/local/lib/python3.6/dist-packages/ipykernel_launcher.py:15: UserWarning: With alpha=0, this algorithm does not converge well. You are advised to use the LinearRegression estimator\n",
            "  from ipykernel import kernelapp as app\n",
            "/usr/local/lib/python3.6/dist-packages/sklearn/linear_model/_coordinate_descent.py:476: UserWarning: Coordinate descent with no regularization may lead to unexpected results and is discouraged.\n",
            "  positive)\n",
            "/usr/local/lib/python3.6/dist-packages/sklearn/linear_model/_coordinate_descent.py:476: ConvergenceWarning: Objective did not converge. You might want to increase the number of iterations. Duality gap: 8.723318539454972, tolerance: 0.006970286465045398\n",
            "  positive)\n"
          ],
          "name": "stderr"
        },
        {
          "output_type": "display_data",
          "data": {
            "image/png": "[encoded data removed]",
            "text/plain": [
              "<Figure size 432x288 with 1 Axes>"
            ]
          },
          "metadata": {
            "tags": [],
            "needs_background": "light"
          }
        }
      ]
    },
    {
      "cell_type": "markdown",
      "metadata": {
        "id": "Z5U_q-bFEv0H"
      },
      "source": [
        "# Stretch Goal - Nonlinear Terms & Feature Interactions\n"
      ]
    },
    {
      "cell_type": "code",
      "metadata": {
        "id": "kz1JMXorFBsv",
        "outputId": "7ea0a7ef-2ae1-4131-8c57-e1cb868d1592",
        "colab": {
          "base_uri": "https://localhost:8080/"
        }
      },
      "source": [
        "'''\n",
        "            This part of the code implements nonlinear terms and feature itneractions\n",
        "'''\n",
        "# =============================================================================\n",
        "# Nonlinear - Squared\n",
        "# Already Organized and Randomized squared dataset in the first section of the code\n",
        "# =============================================================================\n",
        "ones = np.array([])\n",
        "while len(ones) <= 78:\n",
        "  ones = np.append(ones,np.array([1]), axis = 0)\n",
        "\n",
        "training = trainDataS\n",
        "train = np.ndarray(shape=(0,len(training[0])+1))\n",
        "test = np.ndarray(shape=(0,len(testDataS[0])+1))\n",
        "for i in range(78):\n",
        "  trainingSample = np.array([training[i]])\n",
        "  train = np.append(train, np.append(np.array([[1]]),trainingSample, axis = 1),axis = 0)\n",
        "for j in range(10):\n",
        "  testSample = np.array([testDataS[j]])\n",
        "  test = np.append(test, np.append(np.array([[1]]),testSample, axis = 1),axis = 0)\n",
        "X1 = train[:,0:10]\n",
        "XValid = validData[:,0:10]\n",
        "transX1 = np.transpose(X1)\n",
        "beta1 = np.matmul(np.matmul(np.linalg.inv(np.matmul(transX1, X1)),transX1),yTrain)\n",
        "yHatTest = np.matmul(test, beta1)\n",
        "yHatTrain = np.matmul(X1, beta1)\n",
        "sumTest = 0\n",
        "sumTrain = 0\n",
        "sumBase = 0\n",
        "for i in range(78):\n",
        "  sumTrain = sumTrain + (np.square(yHatTrain[i]-yTrainS[i]))\n",
        "\n",
        "labelMean = np.sum(yTrainS,axis = 0)/78\n",
        "\n",
        "for i in range(10):\n",
        "  sumTest = sumTest + (np.square(yHatTest[i]-yTestS[i]))\n",
        "  sumBase = sumBase + (np.square(labelMean-yTestS[i]))\n",
        "MSEBase = sumBase.astype(np.float)/10\n",
        "MSE1Test = sumTest.astype(np.float)/10\n",
        "MSE1Train = sumTrain.astype(np.float)/78\n",
        "print(\"MSE for baseline for Squared Terms: \", MSEBase)\n",
        "print(\"MSE for Testing for Squared Terms: \",MSE1Test)\n",
        "print(\"MSE for Training for Squared Terms: \",MSE1Train)\n"
      ],
      "execution_count": null,
      "outputs": [
        {
          "output_type": "stream",
          "text": [
            "MSE for baseline for Squared Terms:  [2.57693944]\n",
            "MSE for Testing for Squared Terms:  [0.99728384]\n",
            "MSE for Training for Squared Terms:  [0.2672889]\n"
          ],
          "name": "stdout"
        }
      ]
    },
    {
      "cell_type": "code",
      "metadata": {
        "id": "5S_d-LD89Qf0",
        "outputId": "c3284f06-5465-43e3-fcbe-92a011b73e0d",
        "colab": {
          "base_uri": "https://localhost:8080/"
        }
      },
      "source": [
        "# =============================================================================\n",
        "# Feature Interation \n",
        "# =============================================================================\n",
        "# I worked with Yingzhi for this part of the code\n",
        "ones = np.array([])\n",
        "while len(ones) <= 78:\n",
        "  ones = np.append(ones,np.array([1]), axis = 0)\n",
        "\n",
        "training = trainDataF\n",
        "train = np.ndarray(shape=(0,len(training[0])+1))\n",
        "test = np.ndarray(shape=(0,len(testDataF[0])+1))\n",
        "for i in range(78):\n",
        "  trainingSample = np.array([training[i]])\n",
        "  train = np.append(train, np.append(np.array([[1]]),trainingSample, axis = 1),axis = 0)\n",
        "for j in range(10):\n",
        "  testSample = np.array([testDataF[j]])\n",
        "  test = np.append(test, np.append(np.array([[1]]),testSample, axis = 1),axis = 0)\n",
        "X1 = train\n",
        "transX1 = np.transpose(X1)\n",
        "beta1 = np.matmul(np.matmul(np.linalg.inv(np.matmul(transX1, X1)),transX1),yTrain)\n",
        "yHatTest = np.matmul(test, beta1)\n",
        "yHatTrain = np.matmul(X1, beta1)\n",
        "sumTest = 0\n",
        "sumTrain = 0\n",
        "sumBase = 0\n",
        "for i in range(78):\n",
        "  sumTrain = sumTrain + (np.square(yHatTrain[i]-yTrainS[i]))\n",
        "\n",
        "labelMean = np.sum(yTrainF,axis = 0)/78\n",
        "\n",
        "for i in range(10):\n",
        "  sumTest = sumTest + (np.square(yHatTest[i]-yTestF[i]))\n",
        "  sumBase = sumBase + (np.square(labelMean-yTestF[i]))\n",
        "  \n",
        "MSEBase = sumBase.astype(np.float)/10\n",
        "MSETest = sumTest.astype(np.float)/10\n",
        "MSETrain = sumTrain.astype(np.float)/78\n",
        "print(\"MSE for baseline for Feature Interactions: \", MSEBase)\n",
        "print(\"MSE for Testing for Feature Interactions: \",MSETest)\n",
        "print(\"MSE for Training for Feature Interactions: \",MSETrain)"
      ],
      "execution_count": null,
      "outputs": [
        {
          "output_type": "stream",
          "text": [
            "MSE for baseline for Feature Interactions:  [2.57693944]\n",
            "MSE for Testing for Feature Interactions:  [13.79539063]\n",
            "MSE for Training for Feature Interactions:  [3.71186638]\n"
          ],
          "name": "stdout"
        }
      ]
    },
    {
      "cell_type": "markdown",
      "metadata": {
        "id": "TEW1J9NFECYZ"
      },
      "source": [
        "I used linear regression for both the nonlinear regression and the feature interaction part. I chose squared input as the nonlinear term and used the feature interaction function PolynomialFeature in sklearn to generate the feature matrix with degree of 2. For the nonlinear term, the testing and the training MSE is generally lower than the baseline MSE, which means this could be a good model to use for this dataset. However,the MSEs for feature interaction is really high, producing worse testing and training MSEs than the baseline MSE. It does not seeme to improve the model.\n",
        "  Overall the MSEs using normal features are better than the nonlinear feature. It did not show huge improvements for the model."
      ]
    },
    {
      "cell_type": "markdown",
      "metadata": {
        "id": "wQidqjS3sRLW"
      },
      "source": [
        "# New Dataset - Real estate price prediction"
      ]
    },
    {
      "cell_type": "code",
      "metadata": {
        "id": "WYOSWnzOvi9B",
        "outputId": "26f84471-7398-4c6f-daae-71bb5c3ec0d8",
        "colab": {
          "base_uri": "https://localhost:8080/"
        }
      },
      "source": [
        "'''\n",
        "        The dataset is downloaded from https://www.kaggle.com/quantbruce/real-estate-price-prediction\n",
        "'''\n",
        "# ===================================================================================================\n",
        "# Organizing, randomizing, and normalizing data\n",
        "# ===================================================================================================\n",
        "df = pd.read_csv(\"Real estate.csv\")\n",
        "index = np.arange(0,414).tolist()\n",
        "originalData = df.iloc[index]\n",
        "yOriginal = originalData[['Y house price of unit area']].values\n",
        "allData = originalData.drop([\"No\",\"X1 transaction date\", \"Y house price of unit area\"],axis = 1)\n",
        "originalData = originalData.drop([\"No\",\"X1 transaction date\", \"Y house price of unit area\"],axis = 1).values\n",
        "\n",
        "yMean = np.mean(yOriginal, axis = 0)\n",
        "yStd = np.std(yOriginal, axis = 0)\n",
        "yOriginal = (yOriginal-yMean)/yStd\n",
        "meanOriginal = np.mean(originalData, axis = 0)\n",
        "stdOriginal = np.std(originalData, axis = 0)\n",
        "\n",
        "# Normalizing the dataset\n",
        "for i in range (len(originalData[1])):\n",
        "  originalData[:,i] = (originalData[:,i]-meanOriginal[i])/stdOriginal[i]\n",
        "# Initialization for the training data index list\n",
        "train = []\n",
        "while len(train) <330:\n",
        "  rand = random.randrange(len(index))\n",
        "  train.append(rand)\n",
        "  index.pop(rand)\n",
        "# print(index)\n",
        "yTrain = yOriginal[train]\n",
        "trainData = originalData[train]\n",
        "# Initialization for the test data index list\n",
        "test = []\n",
        "while len(test) <  42:\n",
        "  rand2 = random.randrange(len(index))\n",
        "  test.append(rand2)\n",
        "  index.pop(rand2)\n",
        "\n",
        "yTest = yOriginal[test]\n",
        "testData = originalData[test]\n",
        "yValid = yOriginal[index]\n",
        "validData = originalData[index]\n",
        "# ===================================================================================================\n",
        "# Part1 - Linear Regression by hand\n",
        "# ===================================================================================================\n",
        "ones = np.array([])\n",
        "while len(ones) <= 330:\n",
        "  ones = np.append(ones,np.array([1]), axis = 0)\n",
        "\n",
        "training = trainData\n",
        "train = np.ndarray(shape=(0,len(training[0])+1))\n",
        "test = np.ndarray(shape=(0,len(testData[0])+1))\n",
        "for i in range(330):\n",
        "  trainingSample = np.array([training[i]])\n",
        "  train = np.append(train, np.append(np.array([[1]]),trainingSample, axis = 1),axis = 0)\n",
        "for j in range(42):\n",
        "  testSample = np.array([testData[j]])\n",
        "  test = np.append(test, np.append(np.array([[1]]),testSample, axis = 1),axis = 0)\n",
        "X1 = train[:,0:6]\n",
        "\n",
        "transX1 = np.transpose(X1)\n",
        "beta1 = np.matmul(np.matmul(np.linalg.inv(np.matmul(transX1, X1)),transX1),yTrain)\n",
        "yHatTest = np.matmul(test, beta1)\n",
        "yHatTrain = np.matmul(X1, beta1)\n",
        "sumTest = 0\n",
        "sumTrain = 0\n",
        "sumBase = 0\n",
        "for i in range(330):\n",
        "  sumTrain = sumTrain + (np.square(yHatTrain[i]-yTrain[i]))\n",
        "\n",
        "labelMean = np.sum(yTrain,axis = 0)/330\n",
        "\n",
        "for i in range(42):\n",
        "  sumTest = sumTest + (np.square(yHatTest[i]-yTest[i]))\n",
        "  sumBase = sumBase + (np.square(labelMean-yTest[i]))\n",
        "MSEBase = sumBase.astype(np.float)/42\n",
        "MSE1Test = sumTest.astype(np.float)/42\n",
        "MSE1Train = sumTrain.astype(np.float)/330\n",
        "print(\"MSE for baseline: \", MSEBase)\n",
        "print(\"MSE for Testing: \",MSE1Test)\n",
        "print(\"MSE for Training: \",MSE1Train)\n",
        "display(allData.corr)\n",
        "variance = (1/(330 - 42 - 1))*sumTrain\n",
        "std = math.sqrt(variance)\n",
        "zScore = []\n",
        "stdError = []\n",
        "for i in range(len(beta1)):\n",
        "  s = np.linalg.inv(np.matmul(transX1,X1))[i,i]\n",
        "  stdError.append(std*math.sqrt(s))\n",
        "  zScore.append(beta1[i]/(stdError[i]))\n",
        "zScore = np.array(zScore)\n",
        "stdError = np.array(stdError)\n",
        "\n",
        "t = np.concatenate((beta1, np.transpose([stdError])),axis = 1)\n",
        "t = np.concatenate((t,np.array(zScore)), axis = 1)\n",
        "\n",
        "table = pd.DataFrame(data = t, columns = [\"Coefficient\", \"Std.Error\", \"Z Score\"], index = [\"Intercept\", \"House Age\", \"distance to the nearest MRT station\", \"number of convenience stores\", \"latitude\", \"longitude\"])\n",
        "display(table)\n",
        "\n",
        "# ===================================================================================================\n",
        "# Part2 - Ridge Regression\n",
        "# ===================================================================================================\n",
        "\n",
        "N = 10000\n",
        "lamb = np.linspace(0,100, num = N)\n",
        "Xr = trainData\n",
        "I = np.identity(5)\n",
        "rEachBeta = [[]]\n",
        "rBeta = np.zeros((N,5))# \n",
        "rYHat = np.zeros((1,42))\n",
        "rMSE = np.zeros((N,1))\n",
        "rSumValid = np.zeros((N,1))\n",
        "for i in range(len(lamb)):\n",
        "  rEachBeta = np.matmul(np.matmul(np.linalg.inv(np.matmul(np.transpose(Xr),Xr) + lamb[i]*I),np.transpose(Xr)),yTrain)\n",
        "  rBeta[i] = np.transpose(rEachBeta)\n",
        "  rYHat = np.transpose(np.matmul(validData,rEachBeta))\n",
        "  for j in range(42):\n",
        "    rSumValid[i,0] = rSumValid[i,0] + ((rYHat[0,j]-yValid[j,0])**2)\n",
        "  rMSE[i] = rSumValid[i]/42\n",
        "min = np.argmin(rMSE)\n",
        "optimalLamb = lamb[min]\n",
        "\n",
        "print(\"optimalLamb: \", optimalLamb)\n",
        "\n",
        "optimalBeta = np.matmul(np.matmul(np.linalg.inv(np.matmul(np.transpose(Xr),Xr) + lamb[i]*I),np.transpose(Xr)),yTrain)\n",
        "\n",
        "rYHatTest = np.matmul(testData, optimalBeta)\n",
        "rSumTest = 0\n",
        "for i in range(42):\n",
        "  rSumTest = rSumTest + (np.square(rYHatTest[i]-yTest[i]))\n",
        "rMSE_Test = rSumTest/42\n",
        "print(\"Rigid MSE for Testing Dataset: \", rMSE_Test)\n",
        "labels = [\"House Age\", \"distance to the nearest MRT station\", \"number of convenience stores\", \"latitude\", \"longitude\"]\n",
        "\n",
        "for i in range(5):\n",
        "  plt.plot(lamb, rBeta[:,i], label = labels[i])\n",
        "\n",
        "plt.xlabel('Lambda')\n",
        "plt.ylabel('Coefficients')\n",
        "plt.title('Ridge Regression Plot for the Prostate Cancer')\n",
        "plt.legend(loc = 'lower right', bbox_to_anchor=(1.3,0.5))\n",
        "plt.show()\n",
        "\n",
        "# ===================================================================================================\n",
        "# Part3 - Lasso Regression\n",
        "# ===================================================================================================\n",
        "laLambda = np.linspace(0,1, num = N)\n",
        "XLa = trainData\n",
        "globalMin = float('inf')\n",
        "laBeta = np.zeros((N,5))\n",
        "laYHat = np.zeros((1,42))\n",
        "optimalLaLamb = 0\n",
        "for i in range(N):\n",
        "  laModel = linear_model.Lasso(alpha = laLambda[i])\n",
        "  laModel.fit(XLa, yTrain)\n",
        "  laYHat = laModel.predict(validData)\n",
        "  laMSE = np.sum(np.square(laYHat - yValid))/42\n",
        "  if laMSE < globalMin:\n",
        "    globalMin = laMSE\n",
        "    optimalLaLamb = laLambda[i]\n",
        "  laBeta[i] = laModel.coef_\n",
        "for i in range(5):\n",
        "  plt.plot(laLambda, laBeta[:,i], label = labels[i])\n",
        "\n",
        "plt.xlabel('Lambda')\n",
        "plt.ylabel('Coefficients')\n",
        "plt.title('Lasso Regression Plot for the Prostate Cancer')\n",
        "plt.legend(loc = 'lower right', bbox_to_anchor=(1.3,0.5))\n",
        "plt.show()\n"
      ],
      "execution_count": null,
      "outputs": [
        {
          "output_type": "stream",
          "text": [
            "MSE for baseline:  [1.07958605]\n",
            "MSE for Testing:  [0.32497001]\n",
            "MSE for Training:  [0.34588124]\n"
          ],
          "name": "stdout"
        },
        {
          "output_type": "display_data",
          "data": {
            "text/plain": [
              "<bound method DataFrame.corr of      X2 house age  ...  X6 longitude\n",
              "0            32.0  ...     121.54024\n",
              "1            19.5  ...     121.53951\n",
              "2            13.3  ...     121.54391\n",
              "3            13.3  ...     121.54391\n",
              "4             5.0  ...     121.54245\n",
              "..            ...  ...           ...\n",
              "409          13.7  ...     121.50381\n",
              "410           5.6  ...     121.54310\n",
              "411          18.8  ...     121.53986\n",
              "412           8.1  ...     121.54067\n",
              "413           6.5  ...     121.54310\n",
              "\n",
              "[414 rows x 5 columns]>"
            ]
          },
          "metadata": {
            "tags": []
          }
        },
        {
          "output_type": "display_data",
          "data": {
            "text/html": [
              "<div>\n",
              "<style scoped>\n",
              "    .dataframe tbody tr th:only-of-type {\n",
              "        vertical-align: middle;\n",
              "    }\n",
              "\n",
              "    .dataframe tbody tr th {\n",
              "        vertical-align: top;\n",
              "    }\n",
              "\n",
              "    .dataframe thead th {\n",
              "        text-align: right;\n",
              "    }\n",
              "</style>\n",
              "<table border=\"1\" class=\"dataframe\">\n",
              "  <thead>\n",
              "    <tr style=\"text-align: right;\">\n",
              "      <th></th>\n",
              "      <th>Coefficient</th>\n",
              "      <th>Std.Error</th>\n",
              "      <th>Z Score</th>\n",
              "    </tr>\n",
              "  </thead>\n",
              "  <tbody>\n",
              "    <tr>\n",
              "      <th>Intercept</th>\n",
              "      <td>0.004253</td>\n",
              "      <td>0.035070</td>\n",
              "      <td>0.121263</td>\n",
              "    </tr>\n",
              "    <tr>\n",
              "      <th>House Age</th>\n",
              "      <td>-0.237615</td>\n",
              "      <td>0.035560</td>\n",
              "      <td>-6.682049</td>\n",
              "    </tr>\n",
              "    <tr>\n",
              "      <th>distance to the nearest MRT station</th>\n",
              "      <td>-0.331369</td>\n",
              "      <td>0.077491</td>\n",
              "      <td>-4.276219</td>\n",
              "    </tr>\n",
              "    <tr>\n",
              "      <th>number of convenience stores</th>\n",
              "      <td>0.330627</td>\n",
              "      <td>0.046999</td>\n",
              "      <td>7.034725</td>\n",
              "    </tr>\n",
              "    <tr>\n",
              "      <th>latitude</th>\n",
              "      <td>0.218102</td>\n",
              "      <td>0.041272</td>\n",
              "      <td>5.284557</td>\n",
              "    </tr>\n",
              "    <tr>\n",
              "      <th>longitude</th>\n",
              "      <td>0.012561</td>\n",
              "      <td>0.069957</td>\n",
              "      <td>0.179558</td>\n",
              "    </tr>\n",
              "  </tbody>\n",
              "</table>\n",
              "</div>"
            ],
            "text/plain": [
              "                                     Coefficient  Std.Error   Z Score\n",
              "Intercept                               0.004253   0.035070  0.121263\n",
              "House Age                              -0.237615   0.035560 -6.682049\n",
              "distance to the nearest MRT station    -0.331369   0.077491 -4.276219\n",
              "number of convenience stores            0.330627   0.046999  7.034725\n",
              "latitude                                0.218102   0.041272  5.284557\n",
              "longitude                               0.012561   0.069957  0.179558"
            ]
          },
          "metadata": {
            "tags": []
          }
        },
        {
          "output_type": "stream",
          "text": [
            "optimalLamb:  0.0\n",
            "Rigid MSE for Testing Dataset:  [0.33663203]\n"
          ],
          "name": "stdout"
        },
        {
          "output_type": "display_data",
          "data": {
            "image/png": "[encoded data removed]",
            "text/plain": [
              "<Figure size 432x288 with 1 Axes>"
            ]
          },
          "metadata": {
            "tags": [],
            "needs_background": "light"
          }
        },
        {
          "output_type": "stream",
          "text": [
            "/usr/local/lib/python3.6/dist-packages/ipykernel_launcher.py:155: UserWarning: With alpha=0, this algorithm does not converge well. You are advised to use the LinearRegression estimator\n",
            "/usr/local/lib/python3.6/dist-packages/sklearn/linear_model/_coordinate_descent.py:476: UserWarning: Coordinate descent with no regularization may lead to unexpected results and is discouraged.\n",
            "  positive)\n",
            "/usr/local/lib/python3.6/dist-packages/sklearn/linear_model/_coordinate_descent.py:476: ConvergenceWarning: Objective did not converge. You might want to increase the number of iterations. Duality gap: 57.07040385144853, tolerance: 0.034179803837463184\n",
            "  positive)\n"
          ],
          "name": "stderr"
        },
        {
          "output_type": "display_data",
          "data": {
            "image/png": "[encoded data removed]",
            "text/plain": [
              "<Figure size 432x288 with 1 Axes>"
            ]
          },
          "metadata": {
            "tags": [],
            "needs_background": "light"
          }
        }
      ]
    },
    {
      "cell_type": "markdown",
      "metadata": {
        "id": "AWoplP2gB_Zd"
      },
      "source": [
        "**Conlusion**\n",
        "\n",
        "The MSEs from Linear Regression, Ridge Regression, and Lasso Regression \n",
        "and generally better than that of baseline. Since I chose to shuffle my entire data everytime I run, the results such as MSEs and my optimal lambdas will vary each time.\n",
        "The dataset I chose is the relationship between the real estate price and its 5 factors. According to the results, lattitude and how convience is it from the convenience store seem like the two most important factors that contributed to the housing price. The lattitude and the longitutde range in this dataset is located in Taiwan, and it makes sense for lattitude to matter in Taiwan as the most developed cities are located in the northest and southest regions. The longitude, however, does not affect as Taiwan's west and east is seperated by mountains where less people live in and less cities are built. Having convenience store that can satisfy daily meals is one of Taiwan's daily lives and culture, it also makes sense for it to be important for real estate measures."
      ]
    }
  ]
}